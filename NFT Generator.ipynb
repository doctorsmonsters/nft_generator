{
 "cells": [
  {
   "cell_type": "code",
   "execution_count": 1,
   "metadata": {},
   "outputs": [],
   "source": [
    "import random\n",
    "import json\n",
    "import os\n",
    "from PIL import Image \n",
    "from itertools import product"
   ]
  },
  {
   "cell_type": "code",
   "execution_count": 2,
   "metadata": {},
   "outputs": [],
   "source": [
    "folder='layers'\n",
    "project='hhero'\n",
    "count=10\n",
    "image_url ='https://ipfs.io/ipfs/QmUNLLsP.......'\n",
    "layers_names=['background', 'character', 'gogles', 'mask', 'caps']"
   ]
  },
  {
   "cell_type": "code",
   "execution_count": 3,
   "metadata": {},
   "outputs": [],
   "source": [
    "combinations = list(product(*[os.listdir(f'{folder}/{x}') for x in os.listdir(folder)]))"
   ]
  },
  {
   "cell_type": "code",
   "execution_count": 4,
   "metadata": {},
   "outputs": [],
   "source": [
    "random.shuffle(combinations)"
   ]
  },
  {
   "cell_type": "code",
   "execution_count": 5,
   "metadata": {},
   "outputs": [],
   "source": [
    "c=0\n",
    "metadata={}\n",
    "\n",
    "for combination in combinations:\n",
    "    if c != count:\n",
    "        if len(combination)>2:\n",
    "            comp = Image.alpha_composite(Image.open(f'{folder}/1/{combination[1]}').convert('RGBA'),\n",
    "                                         Image.open(f'{folder}/2/{combination[2]}').convert('RGBA'))\n",
    "            n=3\n",
    "            for item in combination[2:]:\n",
    "                if combination.index(item)!=-1:\n",
    "                    comp = Image.alpha_composite(comp,\n",
    "                                         Image.open(f'{folder}/{n}/{item}').convert('RGBA'))\n",
    "                    n+=1\n",
    "        rgb_im = comp.convert('RGB')\n",
    "        file_name = str(combinations.index(combination)) + \".png\"\n",
    "        rgb_im.save(\"./images/\" + file_name)\n",
    "        metadata['image']=f'{image_url}/{file_name}'\n",
    "        metadata['tokenId']=str(combinations.index(combination))\n",
    "        metadata['name']=project+' '+str(combinations.index(combination))\n",
    "        metadata['attributes']=[]\n",
    "        for item in layers_names:\n",
    "            metadata['attributes'].append({item:combination[layers_names.index(item)][:-4]})\n",
    "        with open(f\"./metadata/{str(combinations.index(combination))}.json\", \"w\") as outfile:\n",
    "            json.dump(metadata, outfile, indent=4)\n",
    "        c+=1\n",
    "    else:\n",
    "        break"
   ]
  }
 ],
 "metadata": {
  "kernelspec": {
   "display_name": "Python 3",
   "language": "python",
   "name": "python3"
  },
  "language_info": {
   "codemirror_mode": {
    "name": "ipython",
    "version": 3
   },
   "file_extension": ".py",
   "mimetype": "text/x-python",
   "name": "python",
   "nbconvert_exporter": "python",
   "pygments_lexer": "ipython3",
   "version": "3.7.4"
  }
 },
 "nbformat": 4,
 "nbformat_minor": 2
}
